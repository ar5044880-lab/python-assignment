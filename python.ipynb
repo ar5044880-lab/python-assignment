{
  "nbformat": 4,
  "nbformat_minor": 0,
  "metadata": {
    "colab": {
      "provenance": []
    },
    "kernelspec": {
      "name": "python3",
      "display_name": "Python 3"
    },
    "language_info": {
      "name": "python"
    }
  },
  "cells": [
    {
      "cell_type": "markdown",
      "source": [
        "# python\n",
        "\n",
        "\n",
        "1. What is python, and why is it popular?\n",
        "-  python is a popular, high-level, general-purpose programing language known for its easy-to-read, english-like syntax and versilaty across many fields like web development, data science, artificial intelligence, and automation.its popularity stems for its beginner-friendly design, powerful libraries and frameworks (such as pandas for data and Django for web),a supportive compatibility, and efficiency in writing less code to solve complex problrms.\n",
        "\n",
        "2. what is an interpreter in python?\n",
        "- in python, an interpreter is a program that directely executes code written in the python programming language. its act as a bridge between thwe high level python code that a programmer writes and the low-level indtructions that a computer can undertstand and execute.\n",
        "\n",
        "3. what are pre-definend keywords in python?\n",
        "- pre-defined keywords in python are reserved words that have special meanings and functionalities within the language.\n",
        "\n",
        "4. can keywords be used as variable names?\n",
        "- no, we cannot use keywords as a variable name.\n",
        "\n",
        "5. what is mutability in python?\n",
        "- in python, mutability refers to whether an object's state or value can be changed after it has been created.\n",
        "\n",
        "6. why are lists mutable, but tuples are immutable?\n",
        "- tuples and lists are they same in every way except two: tuples use parentheses instead of square brackets, and the items in tuples cannot be modified(but the items in lists can be modified).\n",
        "\n",
        "7. what are the difference between \"==\" and \"is\" operators in python?\n",
        "- in python , == and is are both comparison operators, but they serve diffrent purposes:\n"
      ],
      "metadata": {
        "id": "EmTSonbmuQaK"
      }
    },
    {
      "cell_type": "code",
      "source": [
        "list1 = [1, 2, 3]\n",
        "list2 = [1, 2, 3]\n",
        "print(list1 == list2)  # output : true (values are the same)"
      ],
      "metadata": {
        "colab": {
          "base_uri": "https://localhost:8080/"
        },
        "id": "Qbu6S1TN9Rmt",
        "outputId": "7567ad3e-26e8-4e48-eecc-9ceb0b4d02f9"
      },
      "execution_count": null,
      "outputs": [
        {
          "output_type": "stream",
          "name": "stdout",
          "text": [
            "True\n"
          ]
        }
      ]
    },
    {
      "cell_type": "markdown",
      "source": [
        ". is : this operator compares the value of two objects. its check whether two variable refer to the exact same object in memory ."
      ],
      "metadata": {
        "id": "2gnkivpA95H0"
      }
    },
    {
      "cell_type": "code",
      "source": [
        "list1 = [1, 2, 3]\n",
        "list2 = [1, 2, 3]\n",
        "print(list1 is list2)    #output false  (they are different objects in memory)\n",
        "\n",
        "\n",
        "list3 = list1\n",
        "print(list1 is list3)    # output : true (list3 now refers to the same objects as list1)\n"
      ],
      "metadata": {
        "colab": {
          "base_uri": "https://localhost:8080/"
        },
        "id": "aK27a45s-mIm",
        "outputId": "0756a9b3-ac10-4548-8413-15f4f22b696b"
      },
      "execution_count": null,
      "outputs": [
        {
          "output_type": "stream",
          "name": "stdout",
          "text": [
            "False\n",
            "True\n"
          ]
        }
      ]
    },
    {
      "cell_type": "markdown",
      "source": [
        "8. what are logical operators in python?\n",
        "- logical operators in python are used to combine or modify condisional statements, returning a boolean value (true or false).\n",
        "\n",
        "9. what is type casting in python?\n",
        "- type casting in python, also known as type conversion, is the process of converting a value or variable from one data type to another.\n",
        "\n",
        "10. what is the difference between implicit and explicit type casting?\n",
        "- implicit type casting ( or widening conversion) happens automatically, converting a smaller data type to a larger one without losing data, while explicit type casting (or narrowing conversion) requires a programmer to manually specify the conversion from a larger data type to a smaller one, potentially causing data loss.\n",
        "\n",
        "11. what is the purpose of conditional statements in python?\n",
        "- conditional statement in python enable programs to make decisions and execute diffrents blocks of code based on whether a specified condition evaluates to true or false.\n",
        "\n",
        "12. How dose the elif statement work?\n",
        "- the elif statement, shorts \"else if,\" is a conditional control flow statement used in programing language like python. it allows for the evaluation of multiple conditions in a sequential manner, providing an alternative path of execution when the preceding if or elif conditions are not met.\n",
        "\n",
        "13. what is the diffrence between for and while loop?\n",
        "- the main difference is that a \"for\" loop is used when the number of iterations is known beforehand, while a \"while\" loop is used when the number of iterations is unknown and depends on dynamic condition true.\n",
        "\n",
        "14. describe a scenario where a while loop is more suitable than a for loop.\n",
        "\n",
        "- a while loop is more suitable than a for loop when the number of iterations is unknown or depends on a dynamic condition that changes within the loop's execution.\n",
        "    \n",
        "    scenario: user input validation\n",
        "\n",
        "consider a program that requires a user to enter a valid integer within a specific range. the program shoud repetedly prompt the user for input until a valid value is provided."
      ],
      "metadata": {
        "id": "YrdcrIsO_jTs"
      }
    },
    {
      "cell_type": "code",
      "source": [
        "while True:\n",
        "    try:\n",
        "        user_input = int(input(\"Please enter an integer between 1 and 10: \"))\n",
        "        if 1 <= user_input <= 10:\n",
        "            print(f\"You entered: {user_input}\")\n",
        "            break  # Exit the loop when valid input is received\n",
        "        else:\n",
        "            print(\"Input out of range. Please try again.\")\n",
        "    except ValueError:\n",
        "        print(\"Invalid input. Please enter an integer.\")"
      ],
      "metadata": {
        "colab": {
          "base_uri": "https://localhost:8080/"
        },
        "id": "YCM6LyPlJpAQ",
        "outputId": "4c698c80-a4ca-4016-e22f-57ebee989fea"
      },
      "execution_count": null,
      "outputs": [
        {
          "output_type": "stream",
          "name": "stdout",
          "text": [
            "Please enter an integer between 1 and 10: 5\n",
            "You entered: 5\n"
          ]
        }
      ]
    },
    {
      "cell_type": "markdown",
      "source": [
        "# PRACTICAL QUESTIONS\n",
        "\n"
      ],
      "metadata": {
        "id": "OCyxWeNLJ6-S"
      }
    },
    {
      "cell_type": "markdown",
      "source": [
        "1. Write a python program to print \"hello, world!\""
      ],
      "metadata": {
        "id": "M3i_tJmuKaOk"
      }
    },
    {
      "cell_type": "code",
      "source": [
        "print(\"Hello, World!\")"
      ],
      "metadata": {
        "colab": {
          "base_uri": "https://localhost:8080/"
        },
        "id": "2rmnqwpLKud0",
        "outputId": "d50477d8-a99b-46db-9a35-9c6ddcee0979"
      },
      "execution_count": null,
      "outputs": [
        {
          "output_type": "stream",
          "name": "stdout",
          "text": [
            "Hello, World!\n"
          ]
        }
      ]
    },
    {
      "cell_type": "markdown",
      "source": [
        "2. write a python program that displays your name and age.\n"
      ],
      "metadata": {
        "id": "LJNy1pNcLXZl"
      }
    },
    {
      "cell_type": "code",
      "source": [
        "name = \"ayush raj\"\n",
        "age = 21\n",
        "\n",
        "print(f\"my name is {name} and i am {age} years old.\")\n"
      ],
      "metadata": {
        "colab": {
          "base_uri": "https://localhost:8080/"
        },
        "id": "tN8pp3NJLptE",
        "outputId": "bc1dca0e-9741-4a8c-bab7-11c015dffb80"
      },
      "execution_count": null,
      "outputs": [
        {
          "output_type": "stream",
          "name": "stdout",
          "text": [
            "my name is ayush raj and i am 21 years old.\n"
          ]
        }
      ]
    },
    {
      "cell_type": "markdown",
      "source": [
        "3. write code to print all the pre-defined keywords in python using the keyword library.\n"
      ],
      "metadata": {
        "id": "9sEWDd-KMQT8"
      }
    },
    {
      "cell_type": "code",
      "source": [
        "import keyword\n",
        "\n",
        "# Get the list of all Python keywords\n",
        "all_keywords = keyword.kwlist\n",
        "\n",
        "# Print each keyword\n",
        "print(\"Python Keywords:\")\n",
        "for kw in all_keywords:\n",
        "    print(kw)"
      ],
      "metadata": {
        "colab": {
          "base_uri": "https://localhost:8080/"
        },
        "id": "06aj2y_TMpve",
        "outputId": "e0dcf36c-cca1-4e8c-f2ef-ed3deacf3a22"
      },
      "execution_count": null,
      "outputs": [
        {
          "output_type": "stream",
          "name": "stdout",
          "text": [
            "Python Keywords:\n",
            "False\n",
            "None\n",
            "True\n",
            "and\n",
            "as\n",
            "assert\n",
            "async\n",
            "await\n",
            "break\n",
            "class\n",
            "continue\n",
            "def\n",
            "del\n",
            "elif\n",
            "else\n",
            "except\n",
            "finally\n",
            "for\n",
            "from\n",
            "global\n",
            "if\n",
            "import\n",
            "in\n",
            "is\n",
            "lambda\n",
            "nonlocal\n",
            "not\n",
            "or\n",
            "pass\n",
            "raise\n",
            "return\n",
            "try\n",
            "while\n",
            "with\n",
            "yield\n"
          ]
        }
      ]
    },
    {
      "cell_type": "markdown",
      "source": [
        "4. write a program that checks if a given word is a python keyword.\n"
      ],
      "metadata": {
        "id": "JZxrexpUM_I1"
      }
    },
    {
      "cell_type": "code",
      "source": [
        "import keyword\n",
        "\n",
        "def check_if_keyword(word):\n",
        "  \"\"\"\n",
        "  Checks if a given word is a Python keyword.\n",
        "\n",
        "  Args:\n",
        "    word: The string to be checked.\n",
        "\n",
        "  Returns:\n",
        "    True if the word is a Python keyword, False otherwise.\n",
        "  \"\"\"\n",
        "  return keyword.iskeyword(word)\n",
        "\n",
        "# Example usage:\n",
        "word_to_check = input(\"Enter a word to check: \")\n",
        "\n",
        "if check_if_keyword(word_to_check):\n",
        "  print(f\"'{word_to_check}' is a Python keyword.\")\n",
        "else:\n",
        "  print(f\"'{word_to_check}' is not a Python keyword.\")"
      ],
      "metadata": {
        "colab": {
          "base_uri": "https://localhost:8080/"
        },
        "id": "St1UerNmNZBn",
        "outputId": "5378dc52-b625-4e7e-f2d9-f01bba30d5f6"
      },
      "execution_count": null,
      "outputs": [
        {
          "output_type": "stream",
          "name": "stdout",
          "text": [
            "Enter a word to check: keyword\n",
            "'keyword' is not a Python keyword.\n"
          ]
        }
      ]
    },
    {
      "cell_type": "markdown",
      "source": [
        "5. create a list and tuple in python, and demonstrate how attempting to change an element works differently for each.\n"
      ],
      "metadata": {
        "id": "l8znc5RdN6TH"
      }
    },
    {
      "cell_type": "code",
      "source": [
        "# Creating a list\n",
        "my_list = [10, 20, 30]\n",
        "print(f\"Original list: {my_list}\")\n",
        "\n",
        "# Attempting to change an element in a list\n",
        "my_list[1] = 25\n",
        "print(f\"Modified list: {my_list}\")\n",
        "\n",
        "# Creating a tuple\n",
        "my_tuple = (100, 200, 300)\n",
        "print(f\"Original tuple: {my_tuple}\")\n",
        "\n",
        "# Attempting to change an element in a tuple\n",
        "try:\n",
        "    my_tuple[1] = 250\n",
        "except TypeError as e:\n",
        "    print(f\"Error attempting to modify tuple: {e}\")"
      ],
      "metadata": {
        "colab": {
          "base_uri": "https://localhost:8080/"
        },
        "id": "K95KTE-gOi_m",
        "outputId": "caba71cb-1cd9-4862-d0be-4ecde70527a8"
      },
      "execution_count": null,
      "outputs": [
        {
          "output_type": "stream",
          "name": "stdout",
          "text": [
            "Original list: [10, 20, 30]\n",
            "Modified list: [10, 25, 30]\n",
            "Original tuple: (100, 200, 300)\n",
            "Error attempting to modify tuple: 'tuple' object does not support item assignment\n"
          ]
        }
      ]
    },
    {
      "cell_type": "markdown",
      "source": [
        "6. write a function to demonstrate the behavior of mutable and immutable arguments.\n"
      ],
      "metadata": {
        "id": "pC2xhtUFPNBt"
      }
    },
    {
      "cell_type": "code",
      "source": [
        "def demonstrate_argument_behavior(mutable_arg, immutable_arg):\n",
        "    \"\"\"\n",
        "    Demonstrates the behavior of mutable and immutable arguments.\n",
        "\n",
        "    Args:\n",
        "        mutable_arg: A mutable object (e.g., a list).\n",
        "        immutable_arg: An immutable object (e.g., an integer or string).\n",
        "    \"\"\"\n",
        "    print(f\"Inside function:\")\n",
        "\n",
        "    # Demonstrating mutable argument behavior\n",
        "    print(f\"  Original mutable_arg (list): {mutable_arg}\")\n",
        "    mutable_arg.append(99)  # Modifying the list in-place\n",
        "    print(f\"  Modified mutable_arg (list): {mutable_arg}\")\n",
        "\n",
        "    # Demonstrating immutable argument behavior\n",
        "    print(f\"  Original immutable_arg (integer): {immutable_arg}\")\n",
        "    # Attempting to modify immutable_arg (this creates a new object)\n",
        "    immutable_arg += 10\n",
        "    print(f\"  Modified immutable_arg (integer, new object created): {immutable_arg}\")\n",
        "\n",
        "\n",
        "# Example Usage:\n",
        "my_list = [1, 2, 3]\n",
        "my_integer = 10\n",
        "\n",
        "print(f\"Before function call:\")\n",
        "print(f\"  my_list: {my_list}\")\n",
        "print(f\"  my_integer: {my_integer}\")\n",
        "\n",
        "demonstrate_argument_behavior(my_list, my_integer)\n",
        "\n",
        "print(f\"After function call:\")\n",
        "print(f\"  my_list: {my_list}\")  # The original list is modified\n",
        "print(f\"  my_integer: {my_integer}\") # The original integer remains unchanged"
      ],
      "metadata": {
        "colab": {
          "base_uri": "https://localhost:8080/"
        },
        "id": "v_wI8UfPPMse",
        "outputId": "9ee5dffb-6337-48c4-b707-221f49b6e674"
      },
      "execution_count": null,
      "outputs": [
        {
          "output_type": "stream",
          "name": "stdout",
          "text": [
            "Before function call:\n",
            "  my_list: [1, 2, 3]\n",
            "  my_integer: 10\n",
            "Inside function:\n",
            "  Original mutable_arg (list): [1, 2, 3]\n",
            "  Modified mutable_arg (list): [1, 2, 3, 99]\n",
            "  Original immutable_arg (integer): 10\n",
            "  Modified immutable_arg (integer, new object created): 20\n",
            "After function call:\n",
            "  my_list: [1, 2, 3, 99]\n",
            "  my_integer: 10\n"
          ]
        }
      ]
    },
    {
      "cell_type": "markdown",
      "source": [
        "7. write a program that performs basic arithmetic operations on two user-input numbers.\n"
      ],
      "metadata": {
        "id": "3wRGlpWqQAWm"
      }
    },
    {
      "cell_type": "code",
      "source": [
        "# Get input from the user for the first number\n",
        "num1_str = input(\"Enter the first number: \")\n",
        "\n",
        "# Get input from the user for the second number\n",
        "num2_str = input(\"Enter the second number: \")\n",
        "\n",
        "try:\n",
        "    # Convert input strings to floating-point numbers\n",
        "    num1 = float(num1_str)\n",
        "    num2 = float(num2_str)\n",
        "\n",
        "    # Perform arithmetic operations\n",
        "    addition = num1 + num2\n",
        "    subtraction = num1 - num2\n",
        "    multiplication = num1 * num2\n",
        "\n",
        "    # Print the results\n",
        "    print(f\"Addition: {num1} + {num2} = {addition}\")\n",
        "    print(f\"Subtraction: {num1} - {num2} = {subtraction}\")\n",
        "    print(f\"Multiplication: {num1} * {num2} = {multiplication}\")\n",
        "\n",
        "    # Handle division separately to prevent division by zero errors\n",
        "    if num2 != 0:\n",
        "        division = num1 / num2\n",
        "        print(f\"Division: {num1} / {num2} = {division}\")\n",
        "    else:\n",
        "        print(\"Division by zero is not possible.\")\n",
        "\n",
        "except ValueError:\n",
        "    print(\"Invalid input. Please enter valid numbers.\")"
      ],
      "metadata": {
        "colab": {
          "base_uri": "https://localhost:8080/"
        },
        "id": "0xpnB2YpQhgn",
        "outputId": "96957096-8846-4bca-dc5f-4a2cedc47c89"
      },
      "execution_count": null,
      "outputs": [
        {
          "output_type": "stream",
          "name": "stdout",
          "text": [
            "Enter the first number: 4\n",
            "Enter the second number: 10\n",
            "Addition: 4.0 + 10.0 = 14.0\n",
            "Subtraction: 4.0 - 10.0 = -6.0\n",
            "Multiplication: 4.0 * 10.0 = 40.0\n",
            "Division: 4.0 / 10.0 = 0.4\n"
          ]
        }
      ]
    },
    {
      "cell_type": "markdown",
      "source": [
        "8. write a program to demonstrate the use of logical operators.\n"
      ],
      "metadata": {
        "id": "qjbbIYSUQ7fV"
      }
    },
    {
      "cell_type": "code",
      "source": [
        "# Program to demonstrate logical operators\n",
        "\n",
        "# Define some variables for demonstration\n",
        "age = 25\n",
        "has_license = True\n",
        "is_student = False\n",
        "temperature = 28\n",
        "\n",
        "print(\"--- Demonstrating Logical AND (and) ---\")\n",
        "# Logical AND: Both conditions must be True for the result to be True\n",
        "# Example 1: Age check for driving\n",
        "if age >= 18 and has_license:\n",
        "    print(f\"Age: {age}, Has License: {has_license} -> Eligible to drive (age >= 18 and has_license is True)\")\n",
        "else:\n",
        "    print(f\"Age: {age}, Has License: {has_license} -> Not eligible to drive\")\n",
        "\n",
        "# Example 2: Temperature check for ideal conditions\n",
        "if temperature > 20 and temperature < 30:\n",
        "    print(f\"Temperature: {temperature} -> Ideal temperature (20 < temp < 30)\")\n",
        "else:\n",
        "    print(f\"Temperature: {temperature} -> Temperature is not ideal\")\n",
        "\n",
        "print(\"\\n--- Demonstrating Logical OR (or) ---\")\n",
        "# Logical OR: At least one condition must be True for the result to be True\n",
        "# Example 1: Discount eligibility\n",
        "if age < 18 or is_student:\n",
        "    print(f\"Age: {age}, Is Student: {is_student} -> Eligible for student/youth discount (age < 18 or is_student is True)\")\n",
        "else:\n",
        "    print(f\"Age: {age}, Is Student: {is_student} -> Not eligible for student/youth discount\")\n",
        "\n",
        "# Example 2: Access permission\n",
        "if has_license or is_student:\n",
        "    print(f\"Has License: {has_license}, Is Student: {is_student} -> Granted access (has_license is True or is_student is True)\")\n",
        "else:\n",
        "    print(f\"Has License: {has_license}, Is Student: {is_student} -> Access denied\")\n",
        "\n",
        "print(\"\\n--- Demonstrating Logical NOT (not) ---\")\n",
        "# Logical NOT: Inverts the boolean value of the operand\n",
        "# Example 1: Checking for absence of license\n",
        "if not has_license:\n",
        "    print(f\"Has License: {has_license} -> Does NOT have a license (not has_license is True)\")\n",
        "else:\n",
        "    print(f\"Has License: {has_license} -> Has a license\")\n",
        "\n",
        "# Example 2: Checking if not a student\n",
        "if not is_student:\n",
        "    print(f\"Is Student: {is_student} -> Is NOT a student (not is_student is True)\")\n",
        "else:\n",
        "    print(f\"Is Student: {is_student} -> Is a student\")"
      ],
      "metadata": {
        "colab": {
          "base_uri": "https://localhost:8080/"
        },
        "id": "v3yDvVObSisH",
        "outputId": "221d5704-3cd3-48ee-dcfb-8fff80293ffb"
      },
      "execution_count": null,
      "outputs": [
        {
          "output_type": "stream",
          "name": "stdout",
          "text": [
            "--- Demonstrating Logical AND (and) ---\n",
            "Age: 25, Has License: True -> Eligible to drive (age >= 18 and has_license is True)\n",
            "Temperature: 28 -> Ideal temperature (20 < temp < 30)\n",
            "\n",
            "--- Demonstrating Logical OR (or) ---\n",
            "Age: 25, Is Student: False -> Not eligible for student/youth discount\n",
            "Has License: True, Is Student: False -> Granted access (has_license is True or is_student is True)\n",
            "\n",
            "--- Demonstrating Logical NOT (not) ---\n",
            "Has License: True -> Has a license\n",
            "Is Student: False -> Is NOT a student (not is_student is True)\n"
          ]
        }
      ]
    },
    {
      "cell_type": "markdown",
      "source": [
        "9. write a python program to convert user input from string to integer, float, and boolean types.\n"
      ],
      "metadata": {
        "id": "CRYVWIecS0xQ"
      }
    },
    {
      "cell_type": "code",
      "source": [
        "def convert_user_input():\n",
        "    \"\"\"\n",
        "    Converts user input from string to integer, float, and boolean types.\n",
        "    Includes error handling for invalid input formats.\n",
        "    \"\"\"\n",
        "    # Get string input\n",
        "    string_input = input(\"Enter a string: \")\n",
        "    print(f\"Original string: '{string_input}', Type: {type(string_input)}\")\n",
        "\n",
        "    # Convert to integer\n",
        "    try:\n",
        "        int_input = int(input(\"Enter an integer: \"))\n",
        "        print(f\"Converted integer: {int_input}, Type: {type(int_input)}\")\n",
        "    except ValueError:\n",
        "        print(\"Error: Invalid input for integer. Please enter a whole number.\")\n",
        "\n",
        "    # Convert to float\n",
        "    try:\n",
        "        float_input = float(input(\"Enter a floating-point number: \"))\n",
        "        print(f\"Converted float: {float_input}, Type: {type(float_input)}\")\n",
        "    except ValueError:\n",
        "        print(\"Error: Invalid input for float. Please enter a number with or without decimal points.\")\n",
        "\n",
        "    # Convert to boolean\n",
        "    # A string is considered True if it's not empty, and False if it's empty.\n",
        "    # For user input, a common convention is to check for specific string values like \"true\" or \"false\".\n",
        "    boolean_str = input(\"Enter a boolean value (e.g., 'True', 'False', '1', '0'): \").strip().lower()\n",
        "    if boolean_str in ('true', '1', 'yes', 'y'):\n",
        "        boolean_input = True\n",
        "    elif boolean_str in ('false', '0', 'no', 'n'):\n",
        "        boolean_input = False\n",
        "    else:\n",
        "        # If the input doesn't match common boolean representations, default to False or handle as needed\n",
        "        boolean_input = False\n",
        "        print(\"Warning: Input not recognized as a standard boolean representation. Defaulting to False.\")\n",
        "\n",
        "    print(f\"Converted boolean: {boolean_input}, Type: {type(boolean_input)}\")\n",
        "\n",
        "# Call the function to execute the program\n",
        "convert_user_input()"
      ],
      "metadata": {
        "colab": {
          "base_uri": "https://localhost:8080/"
        },
        "id": "QPL451A-TX9R",
        "outputId": "c48e664c-746c-4dac-e456-02991dd96692"
      },
      "execution_count": null,
      "outputs": [
        {
          "output_type": "stream",
          "name": "stdout",
          "text": [
            "Enter a string: hello \n",
            "Original string: 'hello ', Type: <class 'str'>\n",
            "Enter an integer: 10\n",
            "Converted integer: 10, Type: <class 'int'>\n",
            "Enter a floating-point number: 3.14\n",
            "Converted float: 3.14, Type: <class 'float'>\n",
            "Enter a boolean value (e.g., 'True', 'False', '1', '0'): 1\n",
            "Converted boolean: True, Type: <class 'bool'>\n"
          ]
        }
      ]
    },
    {
      "cell_type": "markdown",
      "source": [
        "10. write code to demonstrate type casting with list elements.\n"
      ],
      "metadata": {
        "id": "LRNfuQ5CT6Ly"
      }
    },
    {
      "cell_type": "code",
      "source": [
        "# Original list with mixed data types\n",
        "my_list = [\"10\", 20, \"30.5\", 40.0, True]\n",
        "\n",
        "# 1. Type casting using a for loop and explicit casting functions\n",
        "# Convert all elements to integers (floats and booleans will be truncated)\n",
        "int_list = []\n",
        "for item in my_list:\n",
        "    try:\n",
        "        int_list.append(int(item))\n",
        "    except ValueError:\n",
        "        int_list.append(0) # Handle cases where conversion to int is not possible\n",
        "\n",
        "print(f\"Original list: {my_list}\")\n",
        "print(f\"List after casting to int: {int_list}\")\n",
        "\n",
        "# 2. Type casting using list comprehension\n",
        "# Convert all elements to strings\n",
        "str_list = [str(item) for item in my_list]\n",
        "print(f\"List after casting to str: {str_list}\")\n",
        "\n",
        "# 3. Type casting using map() function\n",
        "# Convert all elements to floats\n",
        "float_list = list(map(float, [item for item in my_list if isinstance(item, (int, float, str)) and str(item).replace('.', '', 1).isdigit()]))\n",
        "print(f\"List after casting to float (handling non-numeric strings): {float_list}\")\n",
        "\n",
        "# Example of casting a specific element\n",
        "my_list[0] = int(my_list[0]) # Cast the first element from string to int\n",
        "print(f\"List after casting a specific element: {my_list}\")"
      ],
      "metadata": {
        "colab": {
          "base_uri": "https://localhost:8080/"
        },
        "id": "pIYUd7zxUMkB",
        "outputId": "5e4bfd83-be3e-4219-8801-85cc772deb8c"
      },
      "execution_count": null,
      "outputs": [
        {
          "output_type": "stream",
          "name": "stdout",
          "text": [
            "Original list: ['10', 20, '30.5', 40.0, True]\n",
            "List after casting to int: [10, 20, 0, 40, 1]\n",
            "List after casting to str: ['10', '20', '30.5', '40.0', 'True']\n",
            "List after casting to float (handling non-numeric strings): [10.0, 20.0, 30.5, 40.0]\n",
            "List after casting a specific element: [10, 20, '30.5', 40.0, True]\n"
          ]
        }
      ]
    },
    {
      "cell_type": "markdown",
      "source": [
        "11. write a program that checks if a number is positive, negetive, or zero.\n"
      ],
      "metadata": {
        "id": "77WimJR3UkDa"
      }
    },
    {
      "cell_type": "code",
      "source": [
        "def check_number_sign(number):\n",
        "    \"\"\"\n",
        "    Checks if a given number is positive, negative, or zero.\n",
        "\n",
        "    Args:\n",
        "        number: The number to be checked.\n",
        "\n",
        "    Returns:\n",
        "        A string indicating whether the number is \"Positive\", \"Negative\", or \"Zero\".\n",
        "    \"\"\"\n",
        "    if number > 0:\n",
        "        return \"Positive\"\n",
        "    elif number < 0:\n",
        "        return \"Negative\"\n",
        "    else:\n",
        "        return \"Zero\"\n",
        "\n",
        "# Example usage:\n",
        "num1 = 10\n",
        "print(f\"The number {num1} is: {check_number_sign(num1)}\")\n",
        "\n",
        "num2 = -5\n",
        "print(f\"The number {num2} is: {check_number_sign(num2)}\")\n",
        "\n",
        "num3 = 0\n",
        "print(f\"The number {num3} is: {check_number_sign(num3)}\")\n",
        "\n",
        "num4 = float(input(\"Enter a number: \"))\n",
        "print(f\"The number {num4} is: {check_number_sign(num4)}\")"
      ],
      "metadata": {
        "id": "ohDlzhNjWVOr",
        "colab": {
          "base_uri": "https://localhost:8080/"
        },
        "outputId": "2e819772-81dc-48ce-ce54-88504326c270"
      },
      "execution_count": 28,
      "outputs": [
        {
          "output_type": "stream",
          "name": "stdout",
          "text": [
            "The number 10 is: Positive\n",
            "The number -5 is: Negative\n",
            "The number 0 is: Zero\n",
            "Enter a number: 5\n",
            "The number 5.0 is: Positive\n"
          ]
        }
      ]
    },
    {
      "cell_type": "markdown",
      "source": [
        "12. write a for loop to print numbers from 1 to 10."
      ],
      "metadata": {
        "id": "qXL9b3LvXJfH"
      }
    },
    {
      "cell_type": "code",
      "source": [
        "for i in range(1, 11):\n",
        "    print(i)"
      ],
      "metadata": {
        "colab": {
          "base_uri": "https://localhost:8080/"
        },
        "id": "bAnoirwxXchT",
        "outputId": "cacd9a2c-2cc7-4b9d-e5a7-9369a651cb8c"
      },
      "execution_count": 29,
      "outputs": [
        {
          "output_type": "stream",
          "name": "stdout",
          "text": [
            "1\n",
            "2\n",
            "3\n",
            "4\n",
            "5\n",
            "6\n",
            "7\n",
            "8\n",
            "9\n",
            "10\n"
          ]
        }
      ]
    },
    {
      "cell_type": "markdown",
      "source": [
        "13. write a python program to find the sum of all even number between 1 and 50.\n"
      ],
      "metadata": {
        "id": "hjB2Vko9YAXk"
      }
    },
    {
      "cell_type": "code",
      "source": [
        "total_sum = 0\n",
        "for number in range(2, 51, 2):  # Start from 2, go up to (but not including) 51, step by 2\n",
        "    total_sum += number\n",
        "print(f\"The sum of even numbers between 1 and 50 is: {total_sum}\")"
      ],
      "metadata": {
        "colab": {
          "base_uri": "https://localhost:8080/"
        },
        "id": "chj_vP6SYXwf",
        "outputId": "8f75437f-f298-4945-87a3-40491bfef97f"
      },
      "execution_count": 30,
      "outputs": [
        {
          "output_type": "stream",
          "name": "stdout",
          "text": [
            "The sum of even numbers between 1 and 50 is: 650\n"
          ]
        }
      ]
    },
    {
      "cell_type": "markdown",
      "source": [
        "14. write a program to reverse a string using a while loop.\n"
      ],
      "metadata": {
        "id": "AJiJUhggY3he"
      }
    },
    {
      "cell_type": "code",
      "source": [
        "def reverse_string_while_loop(input_string):\n",
        "    \"\"\"\n",
        "    Reverses a given string using a while loop.\n",
        "\n",
        "    Args:\n",
        "        input_string: The string to be reversed.\n",
        "\n",
        "    Returns:\n",
        "        The reversed string.\n",
        "    \"\"\"\n",
        "    reversed_string = \"\"\n",
        "    index = len(input_string) - 1  # Start from the last character's index\n",
        "\n",
        "    while index >= 0:\n",
        "        reversed_string += input_string[index]\n",
        "        index -= 1  # Move to the previous character\n",
        "\n",
        "    return reversed_string\n",
        "\n",
        "# Example usage:\n",
        "original_str = \"hello\"\n",
        "reversed_str = reverse_string_while_loop(original_str)\n",
        "print(f\"Original string: {original_str}\")\n",
        "print(f\"Reversed string: {reversed_str}\")\n",
        "\n",
        "original_str_2 = \"Python\"\n",
        "reversed_str_2 = reverse_string_while_loop(original_str_2)\n",
        "print(f\"Original string: {original_str_2}\")\n",
        "print(f\"Reversed string: {reversed_str_2}\")"
      ],
      "metadata": {
        "colab": {
          "base_uri": "https://localhost:8080/"
        },
        "id": "5WVE-aLoZKRR",
        "outputId": "fbf8b38c-6ff0-4e4e-da2e-b7040ec66ea8"
      },
      "execution_count": 31,
      "outputs": [
        {
          "output_type": "stream",
          "name": "stdout",
          "text": [
            "Original string: hello\n",
            "Reversed string: olleh\n",
            "Original string: Python\n",
            "Reversed string: nohtyP\n"
          ]
        }
      ]
    },
    {
      "cell_type": "markdown",
      "source": [
        "15. write a python program to calculate the factorial of a number provied by the user using a while loop."
      ],
      "metadata": {
        "id": "4qR0pVhRZjgp"
      }
    },
    {
      "cell_type": "code",
      "source": [
        "def calculate_factorial_while_loop():\n",
        "    \"\"\"\n",
        "    Calculates the factorial of a non-negative integer provided by the user\n",
        "    using a while loop. Handles invalid inputs gracefully.\n",
        "    \"\"\"\n",
        "    while True:\n",
        "        try:\n",
        "            num_str = input(\"Enter a non-negative integer to calculate its factorial: \")\n",
        "            num = int(num_str)\n",
        "\n",
        "            if num < 0:\n",
        "                print(\"Factorial is not defined for negative numbers. Please enter a non-negative integer.\")\n",
        "            else:\n",
        "                break  # Exit the loop if input is valid\n",
        "        except ValueError:\n",
        "            print(\"Invalid input. Please enter a valid integer.\")\n",
        "\n",
        "    if num == 0:\n",
        "        print(f\"The factorial of {num} is 1.\")\n",
        "    else:\n",
        "        factorial = 1\n",
        "        current_num = num\n",
        "        while current_num > 0:\n",
        "            factorial *= current_num\n",
        "            current_num -= 1\n",
        "        print(f\"The factorial of {num} is {factorial}.\")\n",
        "\n",
        "# Call the function to execute the program\n",
        "calculate_factorial_while_loop()"
      ],
      "metadata": {
        "colab": {
          "base_uri": "https://localhost:8080/"
        },
        "id": "ZwR2rBa1Z9_9",
        "outputId": "9f8b0256-cfd8-40f1-a87f-68941c9ee167"
      },
      "execution_count": 32,
      "outputs": [
        {
          "output_type": "stream",
          "name": "stdout",
          "text": [
            "Enter a non-negative integer to calculate its factorial: 6\n",
            "The factorial of 6 is 720.\n"
          ]
        }
      ]
    }
  ]
}